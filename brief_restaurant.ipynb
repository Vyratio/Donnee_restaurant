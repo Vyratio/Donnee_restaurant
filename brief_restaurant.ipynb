{
 "cells": [
  {
   "cell_type": "code",
   "execution_count": 893,
   "metadata": {},
   "outputs": [
    {
     "data": {
      "text/plain": [
       "Engine(sqlite:///fastfood.sqlite3)"
      ]
     },
     "execution_count": 893,
     "metadata": {},
     "output_type": "execute_result"
    }
   ],
   "source": [
    "\n",
    "# create_tables.py\n",
    "from sqlalchemy import create_engine, MetaData, \\\n",
    "    Column, Integer, Numeric, String, Date, Table, ForeignKey, select\n",
    "\n",
    "engine = create_engine(\n",
    "    'sqlite:///fastfood.sqlite3'\n",
    ")\n",
    "engine"
   ]
  },
  {
   "cell_type": "code",
   "execution_count": 894,
   "metadata": {},
   "outputs": [],
   "source": [
    "metadata = MetaData()"
   ]
  },
  {
   "cell_type": "code",
   "execution_count": 895,
   "metadata": {},
   "outputs": [
    {
     "data": {
      "text/plain": [
       "'1.4.44'"
      ]
     },
     "execution_count": 895,
     "metadata": {},
     "output_type": "execute_result"
    }
   ],
   "source": [
    "import sqlalchemy\n",
    "sqlalchemy.__version__  "
   ]
  },
  {
   "cell_type": "code",
   "execution_count": 896,
   "metadata": {},
   "outputs": [
    {
     "data": {
      "text/plain": [
       "sqlalchemy.orm.decl_api.Base"
      ]
     },
     "execution_count": 896,
     "metadata": {},
     "output_type": "execute_result"
    }
   ],
   "source": [
    "from sqlalchemy.orm import declarative_base\n",
    "Base = declarative_base()\n",
    "Base"
   ]
  },
  {
   "cell_type": "code",
   "execution_count": 897,
   "metadata": {},
   "outputs": [],
   "source": [
    "metadata= MetaData()"
   ]
  },
  {
   "cell_type": "code",
   "execution_count": 898,
   "metadata": {},
   "outputs": [],
   "source": [
    "class Restaurant(Base):\n",
    "     __tablename__ = \"Restaurant\"\n",
    "     code_postal = Column( Integer, primary_key=True)\n",
    "     pays = Column(String,ForeignKey(\"Pays.pays\"))\n",
    "     capacite = Column(Integer)\n",
    "     espace_enfant = Column(Integer)     \n",
    "     service_rapide = Column(Integer)\n",
    "     accessibilite = Column(Integer)\n",
    "     parking = Column(Integer)\n",
    "\n",
    "     def __repr__(self):\n",
    "         return \"<Restaurant(code_postal='%s', pays='%s', capacite='%s',espace_enfant='%s', service_rapide='%s', accessibilite='%s',parking='%s')>\" % (\n",
    "             self.code_postal,\n",
    "             self.pays,\n",
    "             self.capacite,\n",
    "             self.espace_enfant,\n",
    "             self.service_rapide,\n",
    "             self.accessibilite,\n",
    "             self.parking,\n",
    "         )\n",
    "    \n",
    "# __repr__ permet de transformer une classe en quelque chose de lisible via print"
   ]
  },
  {
   "cell_type": "code",
   "execution_count": null,
   "metadata": {},
   "outputs": [],
   "source": []
  },
  {
   "cell_type": "code",
   "execution_count": 899,
   "metadata": {},
   "outputs": [],
   "source": [
    "class Pays(Base):\n",
    "     __tablename__ = \"Pays\"\n",
    "\n",
    "     pays = Column(String, primary_key=True)\n",
    "\n",
    "\n",
    "     def __repr__(self):\n",
    "         return \"<Pays(pays='%s')>\" % (\n",
    "             self.pays,\n",
    "         )"
   ]
  },
  {
   "cell_type": "code",
   "execution_count": 900,
   "metadata": {},
   "outputs": [],
   "source": [
    "class Employe(Base):\n",
    "     __tablename__ = \"Employe\"\n",
    "\n",
    "     id_employe = Column(String, primary_key=True)\n",
    "     code_postal = Column(Integer,ForeignKey(\"Restaurant.code_postal\"))\n",
    "     id_superieur = Column(Integer,ForeignKey(\"Employe.id_employe\"))\n",
    "     poste = Column(String)\n",
    "     experience = Column(Integer)\n",
    "     nom = Column(String)\n",
    "     adresse = Column(String)\n",
    "     note = Column(Integer)     \n",
    "\n",
    "     def __repr__(self):\n",
    "         return \"<Employe(id_employe='%s', code_postal='%s', id_superieur='%s',poste='%s', experience='%s', nom='%s',adresse='%s',note='%s')>\" % (\n",
    "             self.id_employe,\n",
    "             self.code_postal,\n",
    "             self.id_superieur,\n",
    "             self.poste,\n",
    "             self.experience,\n",
    "             self.nom,\n",
    "             self.adresse,\n",
    "             self.note,\n",
    "         )"
   ]
  },
  {
   "cell_type": "code",
   "execution_count": 901,
   "metadata": {},
   "outputs": [],
   "source": [
    "class RIB(Base):\n",
    "     __tablename__ = \"RIB\"\n",
    "\n",
    "     id_employe = Column( Integer,ForeignKey(\"Employe.id_employe\"), primary_key=True)\n",
    "     iban = Column(String)\n",
    "     bic = Column(String)\n",
    "     proprietaire = Column(String)\n",
    "     adresse = Column(String)     \n",
    "\n",
    "     def __repr__(self):\n",
    "         return \"<RIB(id_employe='%s', iban='%s', bic='%s',proprietaire='%s',adresse='%s')>\" % (\n",
    "             self.id_employe,\n",
    "             self.iban,\n",
    "             self.bic,\n",
    "             self.proprietaire,\n",
    "             self.adresse,\n",
    "         )"
   ]
  },
  {
   "cell_type": "code",
   "execution_count": 902,
   "metadata": {},
   "outputs": [],
   "source": [
    "class Paye(Base):\n",
    "     __tablename__ = \"Paye\"\n",
    "\n",
    "     id_employe = Column(Integer,ForeignKey(\"Employe.id_employe\"), primary_key=True)\n",
    "     date = Column(String, primary_key=True)\n",
    "     salaire_net = Column(Numeric,nullable=False)\n",
    "\n",
    "     def __repr__(self):\n",
    "         return \"<paye(id_employe='%s', date='%s', salaire_net='%s')>\" % (\n",
    "             self.id_employe,\n",
    "             self.date,\n",
    "             self.salaire_net,\n",
    "         )"
   ]
  },
  {
   "cell_type": "code",
   "execution_count": 903,
   "metadata": {},
   "outputs": [],
   "source": [
    "class CarteMenu(Base):\n",
    "     __tablename__ = \"CarteMenu\"\n",
    "\n",
    "     pays = Column( String,ForeignKey(\"Pays.pays\"), primary_key=True)\n",
    "     id_menu = Column(Integer,ForeignKey(\"Menu.id_menu\"), primary_key=True)\n",
    "\n",
    "     def __repr__(self):\n",
    "         return \"<CarteMenu(pays='%s', id_menu='%s')>\" % (\n",
    "             self.pays,\n",
    "             self.id_menu,\n",
    "         )"
   ]
  },
  {
   "cell_type": "code",
   "execution_count": 904,
   "metadata": {},
   "outputs": [],
   "source": [
    "class Menu(Base):\n",
    "     __tablename__ = \"Menu\"\n",
    "\n",
    "     id_menu = Column(Integer, primary_key=True)\n",
    "     boisson = Column(String(35),ForeignKey(\"Item.nom_item\"))\n",
    "     plat = Column(String,ForeignKey(\"Item.nom_item\"))\n",
    "     dessert = Column(String,ForeignKey(\"Item.nom_item\"))\n",
    "     prix = Column(Numeric)\n",
    "\n",
    "     def __repr__(self):\n",
    "         return \"<Menu(id_menu='%s', boisson='%s', plat='%s',dessert='%s', prix='%s')>\" % (\n",
    "             self.id_menu,\n",
    "             self.boisson,\n",
    "             self.plat,\n",
    "             self.dessert,\n",
    "             self.prix,\n",
    "\n",
    "         )"
   ]
  },
  {
   "cell_type": "code",
   "execution_count": 905,
   "metadata": {},
   "outputs": [],
   "source": [
    "class Item(Base):\n",
    "     __tablename__ = \"Item\"\n",
    "\n",
    "     nom_item = Column( String, primary_key=True)\n",
    "     type = Column(String)\n",
    "     prix = Column(Numeric)\n",
    "\n",
    "     def __repr__(self):\n",
    "         return \"<Item(nom_item='%s', type='%s', prix='%s')>\" % (\n",
    "             self.nom_item,\n",
    "             self.type,\n",
    "             self.prix,\n",
    "         )"
   ]
  },
  {
   "cell_type": "code",
   "execution_count": 906,
   "metadata": {},
   "outputs": [],
   "source": [
    "class CarteItem(Base):\n",
    "     __tablename__ = \"CarteItem\"\n",
    "\n",
    "     pays = Column( String,ForeignKey(\"Pays.pays\"), primary_key=True)\n",
    "     nom_item = Column(String,ForeignKey(\"Recette.nom_item\"), primary_key=True)\n",
    "\n",
    "     def __repr__(self):\n",
    "         return \"<CarteItem(pays='%s', nom_item='%s')>\" % (\n",
    "             self.pays,\n",
    "             self.nom_item\n",
    "         )"
   ]
  },
  {
   "cell_type": "code",
   "execution_count": 907,
   "metadata": {},
   "outputs": [],
   "source": [
    "class PanierMenu(Base):\n",
    "     __tablename__ = \"Panier Menu\"\n",
    "\n",
    "     id_bill = Column( Integer,ForeignKey(\"Bill.id_bill\"), primary_key=True)\n",
    "     id_menu = Column(Integer,ForeignKey(\"Menu.id_menu\"), primary_key=True)\n",
    "     quantity = Column(Integer)\n",
    "\n",
    "     def __repr__(self):\n",
    "         return \"<PanierMenu(id_bill='%s', id_menu='%s', quantity='%s')>\" % (\n",
    "             self.id_bill,\n",
    "             self.id_menu,\n",
    "             self.quantity,\n",
    "         )"
   ]
  },
  {
   "cell_type": "code",
   "execution_count": 908,
   "metadata": {},
   "outputs": [],
   "source": [
    "class PanierItem(Base):\n",
    "     __tablename__ = \"Panier Item\"\n",
    "\n",
    "     nom_item = Column(String,ForeignKey(\"Item.nom_item\"), primary_key=True)\n",
    "     id_bill = Column(Integer,ForeignKey(\"Bill.id_bill\"), primary_key=True)\n",
    "     quantity = Column(Integer)\n",
    "\n",
    "     def __repr__(self):\n",
    "         return \"<PanierItem(nom_item='%s', id_bill='%s', quantity='%s')>\" % (\n",
    "             self.nom_item,\n",
    "             self.id_bill,\n",
    "             self.quantity,\n",
    "         )"
   ]
  },
  {
   "cell_type": "code",
   "execution_count": 909,
   "metadata": {},
   "outputs": [],
   "source": [
    "class Bill(Base):\n",
    "     __tablename__ = \"Bill\"\n",
    "\n",
    "     id_bill = Column(String, primary_key=True)\n",
    "     code_postal = Column(Integer,ForeignKey(\"Restaurant.code_postal\"))\n",
    "     id_vendeur = Column(Integer,ForeignKey(\"Employe.id_employe\"))\n",
    "     borne = Column(Integer)\n",
    "     moyen_paiement = Column(String)\n",
    "     prix_total = Column(Numeric)     \n",
    "\n",
    "     def __repr__(self):\n",
    "         return \"<Bill(id_bill='%s', code_postal='%s', id_vendeur='%s',borne='%s', moyen_paiement='%s', prix_total='%s')>\" % (\n",
    "             self.id_bill,\n",
    "             self.code_postal,\n",
    "             self.id_vendeur,\n",
    "             self.borne,\n",
    "             self.moyen_paiement,\n",
    "             self.prix_total\n",
    "         )"
   ]
  },
  {
   "cell_type": "code",
   "execution_count": 910,
   "metadata": {},
   "outputs": [],
   "source": [
    "class Recette(Base):\n",
    "     __tablename__ = \"Recette\"\n",
    "\n",
    "     nom_item = Column( String,ForeignKey(\"Item.nom_item\"), primary_key=True)\n",
    "     nom_ingredient = Column(String,ForeignKey(\"Ingredient.nom_ingredient\"), primary_key=True)\n",
    "     quantity = Column(Integer)\n",
    "\n",
    "     def __repr__(self):\n",
    "         return \"<Recette(nom_item='%s', nom_ingredient='%s', quantity='%s')>\" % (\n",
    "             self.nom_item,\n",
    "             self.nom_ingredient,\n",
    "             self.quantity,\n",
    "         )"
   ]
  },
  {
   "cell_type": "code",
   "execution_count": 911,
   "metadata": {},
   "outputs": [],
   "source": [
    "class Ingredient(Base):\n",
    "     __tablename__ = \"Ingredient\"\n",
    "\n",
    "     nom_ingredient = Column(String, primary_key=True)\n",
    "     cout = Column(Numeric)\n",
    "\n",
    "     def __repr__(self):\n",
    "         return \"<Ingredient(nom_ingredient='%s', cout='%s')>\" % (\n",
    "             self.nom_ingredient,\n",
    "             self.cout\n",
    "         )"
   ]
  },
  {
   "cell_type": "code",
   "execution_count": 912,
   "metadata": {},
   "outputs": [],
   "source": [
    "class Stock(Base):\n",
    "     __tablename__ = \"Stock\"\n",
    "     \n",
    "     code_postal = Column(String,ForeignKey(\"Restaurant.code_postal\"), primary_key=True)\n",
    "     nom_ingredient = Column(Integer,ForeignKey(\"Ingredient.nom_ingredient\"), primary_key=True)\n",
    "     quantite = Column(Integer)\n",
    "\n",
    "     def __repr__(self):\n",
    "         return \"<Stock(code_postal='%s', nom_ingredient='%s',quantite='%s')>\" % (\n",
    "             self.code_postal,\n",
    "             self.nom_ingredient,\n",
    "             self.quantite\n",
    "             \n",
    "         )"
   ]
  },
  {
   "cell_type": "code",
   "execution_count": 913,
   "metadata": {},
   "outputs": [
    {
     "data": {
      "text/plain": [
       "sessionmaker(class_='Session', bind=Engine(sqlite:///fastfood.sqlite3), autoflush=True, autocommit=False, expire_on_commit=True)"
      ]
     },
     "execution_count": 913,
     "metadata": {},
     "output_type": "execute_result"
    }
   ],
   "source": [
    "from sqlalchemy.orm import sessionmaker\n",
    "Session = sessionmaker(bind=engine)\n",
    "Session"
   ]
  },
  {
   "cell_type": "code",
   "execution_count": 914,
   "metadata": {},
   "outputs": [],
   "source": [
    "Base.metadata.create_all(engine)"
   ]
  },
  {
   "cell_type": "code",
   "execution_count": 915,
   "metadata": {},
   "outputs": [
    {
     "data": {
      "text/plain": [
       "MetaData()"
      ]
     },
     "execution_count": 915,
     "metadata": {},
     "output_type": "execute_result"
    }
   ],
   "source": [
    "metadata"
   ]
  },
  {
   "cell_type": "code",
   "execution_count": 916,
   "metadata": {},
   "outputs": [],
   "source": [
    "import sys\n",
    "from faker import Faker\n",
    "import random\n",
    "faker = Faker(\"fr_FR\")\n"
   ]
  },
  {
   "cell_type": "code",
   "execution_count": 917,
   "metadata": {},
   "outputs": [],
   "source": [
    "with engine.connect() as conn:\n",
    "    metadata.reflect(conn)"
   ]
  },
  {
   "cell_type": "code",
   "execution_count": 918,
   "metadata": {},
   "outputs": [],
   "source": [
    "def generatePays(nb_pays: int):\n",
    "    \"\"\"\n",
    "    Fonction qui genere des pays dans la BDD\n",
    "    : param nb_country int : Nombre de pays à générer\n",
    "    \"\"\"\n",
    "    Session = sessionmaker(bind=engine)\n",
    "    session = Session()\n",
    "    for _ in range(0, nb_pays):\n",
    "\n",
    "\n",
    "        pays = Pays(pays=faker.unique.country())\n",
    "        session.add(pays)\n",
    "        \n",
    "        session.commit()\n",
    "    session.close()"
   ]
  },
  {
   "cell_type": "code",
   "execution_count": 919,
   "metadata": {},
   "outputs": [],
   "source": [
    "\n",
    "generatePays(10)\n"
   ]
  },
  {
   "cell_type": "code",
   "execution_count": 920,
   "metadata": {},
   "outputs": [],
   "source": [
    "from faker_food import FoodProvider\n",
    "faker.add_provider(FoodProvider)"
   ]
  },
  {
   "cell_type": "code",
   "execution_count": 921,
   "metadata": {},
   "outputs": [],
   "source": [
    "ingredient_list=[]\n",
    "for _ in range(10):\n",
    "    ingredient_list.append(faker.ingredient())\n",
    "\n",
    "unique_ingredient = list(set(ingredient_list)) \n",
    "def generate_ingredient():\n",
    "    \"\"\"\n",
    "    Fonction qui genere des pays dans la BDD\n",
    "    : param nb_country int : Nombre de pays à générer\n",
    "    \"\"\"\n",
    "    Session = sessionmaker(bind=engine)\n",
    "    session = Session() \n",
    "    for _ in range(0,len(unique_ingredient)):\n",
    "\n",
    "\n",
    "        ingredient = Ingredient(nom_ingredient = unique_ingredient[_],cout = faker.pyfloat(left_digits=2, right_digits=2,  min_value=1.0, max_value=10.0))\n",
    "        session.add(ingredient) \n",
    "        session.commit()\n",
    "    session.close()"
   ]
  },
  {
   "cell_type": "code",
   "execution_count": 922,
   "metadata": {},
   "outputs": [],
   "source": [
    "generate_ingredient()"
   ]
  },
  {
   "cell_type": "code",
   "execution_count": 923,
   "metadata": {},
   "outputs": [],
   "source": [
    "def generate_restaurant():\n",
    "    \"\"\"\n",
    "    Fonction qui genere des pays dans la BDD\n",
    "    : param nb_country int : Nombre de pays à générer\n",
    "    \"\"\"\n",
    "    Session = sessionmaker(bind=engine)\n",
    "    session = Session()\n",
    " \n",
    "    for i in session.query(Pays).all():\n",
    "\n",
    "        restaurant = Restaurant(code_postal = faker.unique.postcode() ,pays = i.pays,capacite = int(faker.random_int(50,200)) , espace_enfant = int(faker.random_int(0,1)),service_rapide = int(faker.random_int(0,1)) , accessibilite = int(faker.random_int(0,1)) ,parking = int(faker.random_int(0,1)))\n",
    "        session.add(restaurant) \n",
    "    session.commit()\n",
    "    session.close()"
   ]
  },
  {
   "cell_type": "code",
   "execution_count": 924,
   "metadata": {},
   "outputs": [],
   "source": [
    "generate_restaurant()"
   ]
  },
  {
   "cell_type": "code",
   "execution_count": 925,
   "metadata": {},
   "outputs": [],
   "source": [
    "dish_list=[]\n",
    "for _ in range(10):\n",
    "    dish_list.append(faker.dish())\n",
    "\n",
    "unique_dish = list(set(dish_list))\n",
    "liste_type = [\"Plat\",\"Dessert\"]\n",
    "liste_boisson = [\"Eau\",\"Coca\",\"Fanta\"]\n",
    "def generate_item():\n",
    "    \"\"\"\n",
    "    Fonction qui genere des pays dans la BDD\n",
    "    : param nb_country int : Nombre de pays à générer\n",
    "    \"\"\"\n",
    "    Session = sessionmaker(bind=engine)\n",
    "    session = Session() \n",
    "    for _ in range(0,len(unique_dish)):\n",
    "\n",
    "\n",
    "        item = Item(nom_item = unique_dish[_] ,type = random.choice(liste_type) ,prix = faker.pyfloat(left_digits=2, right_digits=2,  min_value=1.0, max_value=10.0))\n",
    "        session.add(item) \n",
    "    for i in range(0 ,len(liste_boisson)):\n",
    "        item2 = Item(nom_item = liste_boisson[i] ,type = \"Boisson\" ,prix = faker.pyfloat(left_digits=2, right_digits=2,  min_value=1.0, max_value=10.0))\n",
    "        session.add(item2) \n",
    "    session.commit()\n",
    "    session.close()"
   ]
  },
  {
   "cell_type": "code",
   "execution_count": 926,
   "metadata": {},
   "outputs": [],
   "source": [
    "generate_item()"
   ]
  },
  {
   "cell_type": "code",
   "execution_count": 927,
   "metadata": {},
   "outputs": [],
   "source": [
    "def generate_menu(nb_menu: int):\n",
    "    \"\"\"\n",
    "    Fonction qui genere des pays dans la BDD\n",
    "    : param nb_country int : Nombre de pays à générer\n",
    "    \"\"\"\n",
    "    Session = sessionmaker(bind=engine)\n",
    "    session = Session() \n",
    "    for _ in range(0, nb_menu):\n",
    "\n",
    "\n",
    "        menu = Menu(id_menu = _ ,boisson = random.choice(session.query(Item).filter(Item.type == \"Boisson\").all()).nom_item,plat = random.choice(session.query(Item).filter(Item.type == \"Plat\").all()).nom_item, dessert = random.choice(session.query(Item).filter(Item.type == \"Dessert\").all()).nom_item , prix = faker.pyfloat(left_digits=2, right_digits=2,  min_value=1.0, max_value=10.0))\n",
    "        session.add(menu) \n",
    "    session.commit()\n",
    "    session.close()"
   ]
  },
  {
   "cell_type": "code",
   "execution_count": 928,
   "metadata": {},
   "outputs": [
    {
     "name": "stderr",
     "output_type": "stream",
     "text": [
      "/tmp/ipykernel_9244/2161725137.py:11: SAWarning: Dialect sqlite+pysqlite does *not* support Decimal objects natively, and SQLAlchemy must convert from floating point - rounding errors and other issues may occur. Please consider storing Decimal numbers as strings or integers on this platform for lossless storage.\n",
      "  menu = Menu(id_menu = _ ,boisson = random.choice(session.query(Item).filter(Item.type == \"Boisson\").all()).nom_item,plat = random.choice(session.query(Item).filter(Item.type == \"Plat\").all()).nom_item, dessert = random.choice(session.query(Item).filter(Item.type == \"Dessert\").all()).nom_item , prix = faker.pyfloat(left_digits=2, right_digits=2,  min_value=1.0, max_value=10.0))\n"
     ]
    }
   ],
   "source": [
    "generate_menu(1)"
   ]
  },
  {
   "cell_type": "code",
   "execution_count": 929,
   "metadata": {},
   "outputs": [],
   "source": [
    "def generate_recette(nb_recette: int):\n",
    "    \"\"\"\n",
    "    Fonction qui genere des pays dans la BDD\n",
    "    : param nb_country int : Nombre de pays à générer\n",
    "    \"\"\"\n",
    "    Session = sessionmaker(bind=engine)\n",
    "    session = Session()\n",
    "    for _ in range(0, nb_recette):\n",
    " \n",
    "\n",
    "        recette = Recette(nom_item = random.choice(session.query(Item).all()).nom_item ,nom_ingredient = random.choice(session.query(Ingredient).all()).nom_ingredient ,quantity = int(faker.random_int(1,1000)) )\n",
    "        session.add(recette) \n",
    "    session.commit()\n",
    "    session.close()"
   ]
  },
  {
   "cell_type": "code",
   "execution_count": 930,
   "metadata": {},
   "outputs": [
    {
     "name": "stderr",
     "output_type": "stream",
     "text": [
      "/tmp/ipykernel_9244/2490534410.py:11: SAWarning: Dialect sqlite+pysqlite does *not* support Decimal objects natively, and SQLAlchemy must convert from floating point - rounding errors and other issues may occur. Please consider storing Decimal numbers as strings or integers on this platform for lossless storage.\n",
      "  recette = Recette(nom_item = random.choice(session.query(Item).all()).nom_item ,nom_ingredient = random.choice(session.query(Ingredient).all()).nom_ingredient ,quantity = int(faker.random_int(1,1000)) )\n"
     ]
    }
   ],
   "source": [
    "generate_recette(2)"
   ]
  },
  {
   "cell_type": "code",
   "execution_count": 931,
   "metadata": {},
   "outputs": [],
   "source": [
    "def generate_stock():\n",
    "    \"\"\"\n",
    "    Fonction qui genere des pays dans la BDD\n",
    "    : param nb_country int : Nombre de pays à générer\n",
    "    \"\"\"\n",
    "    Session = sessionmaker(bind=engine)\n",
    "    session = Session() \n",
    "    for i in session.query(Restaurant).all() :\n",
    "        for j in session.query(Ingredient).all() :\n",
    "            stock = Stock(code_postal = i.code_postal ,nom_ingredient = j.nom_ingredient ,quantite = int(faker.random_int(1,1000)))\n",
    "            session.add(stock) \n",
    "    session.commit()        \n",
    "    session.close()"
   ]
  },
  {
   "cell_type": "code",
   "execution_count": 932,
   "metadata": {},
   "outputs": [],
   "source": [
    "generate_stock()"
   ]
  },
  {
   "cell_type": "code",
   "execution_count": 933,
   "metadata": {},
   "outputs": [],
   "source": [
    "def generateEmploye(max_manager: int, max_employe: int):\n",
    "    \"\"\"\n",
    "    Fonction qui genere des pays dans la BDD\n",
    "    : param nb_country int : Nombre de pays à générer\n",
    "    \"\"\"\n",
    "    Session = sessionmaker(bind=engine)\n",
    "    session = Session()\n",
    "    id_employe_a_trouver =0\n",
    "\n",
    "    for r in session.query(Restaurant).all():\n",
    "        id_employe_a_trouver += 1\n",
    "        session.add(Employe(id_employe = id_employe_a_trouver,code_postal=r.code_postal,id_superieur = 0, poste=\"Directeur\", nom=faker.last_name(), experience=faker.pyint(min_value=1, max_value=5), note=faker.pyint(min_value=1, max_value=10), adresse=faker.street_address()))\n",
    "        for _ in range(1, faker.pyint(min_value=1, max_value=max_manager)):\n",
    "            id_employe_a_trouver += 1\n",
    "            session.add(Employe(id_employe = id_employe_a_trouver ,code_postal=r.code_postal, poste=\"Manager\", id_superieur=session.query(Employe).filter_by(code_postal = r.code_postal).first().id_employe, nom=faker.last_name(), adresse=faker.street_address(), experience=faker.pyint(min_value=1, max_value=5), note=faker.pyint(min_value=1, max_value=10)))\n",
    "            for e in session.query(Employe).filter_by(code_postal = r.code_postal,poste = \"Manager\").all():\n",
    "                id_employe_a_trouver += 1\n",
    "                for i in range(1, faker.pyint(min_value=1, max_value=max_employe)):\n",
    "                    id_employe_a_trouver += 1\n",
    "                    session.add(Employe(id_employe = id_employe_a_trouver ,code_postal=r.code_postal, poste=random.choice([\"Cassier\", \"Cuisinier\"]), experience=faker.pyint(min_value=1, max_value=5), note=faker.pyint(min_value=1, max_value=10),id_superieur=e.id_employe, nom=faker.last_name(), adresse=faker.street_address()))\n",
    "    session.commit()\n",
    "    session.close()"
   ]
  },
  {
   "cell_type": "code",
   "execution_count": 934,
   "metadata": {},
   "outputs": [],
   "source": [
    "generateEmploye(6,10)"
   ]
  },
  {
   "cell_type": "code",
   "execution_count": 935,
   "metadata": {},
   "outputs": [],
   "source": [
    "def generate_rib():\n",
    "    \"\"\"\n",
    "    Fonction qui genere des pays dans la BDD\n",
    "    : param nb_country int : Nombre de pays à générer\n",
    "    \"\"\"\n",
    "    Session = sessionmaker(bind=engine)\n",
    "    session = Session() \n",
    "    for i in session.query(Employe).all() :\n",
    "\n",
    "      rib = RIB(id_employe = i.id_employe ,iban = faker.iban() ,bic =  faker.swift() ,proprietaire = i.nom ,adresse = i.adresse)\n",
    "      session.add(rib) \n",
    "    session.commit()\n",
    "    session.close()"
   ]
  },
  {
   "cell_type": "code",
   "execution_count": 936,
   "metadata": {},
   "outputs": [],
   "source": [
    "generate_rib()"
   ]
  },
  {
   "cell_type": "code",
   "execution_count": 937,
   "metadata": {},
   "outputs": [],
   "source": [
    "def generate_carte_menu():\n",
    "    \"\"\"\n",
    "    Fonction qui genere des pays dans la BDD\n",
    "    : param nb_country int : Nombre de pays à générer\n",
    "    \"\"\"\n",
    "    Session = sessionmaker(bind=engine)\n",
    "    session = Session() \n",
    "    for i in session.query(Pays).all() :\n",
    "        for j in session.query(Menu).all() :\n",
    "            cartemenu = CarteMenu(pays = i.pays ,id_menu = j.id_menu )\n",
    "            session.add(cartemenu) \n",
    "    session.commit()\n",
    "    session.close()"
   ]
  },
  {
   "cell_type": "code",
   "execution_count": 938,
   "metadata": {},
   "outputs": [
    {
     "name": "stderr",
     "output_type": "stream",
     "text": [
      "/tmp/ipykernel_9244/3012886246.py:9: SAWarning: Dialect sqlite+pysqlite does *not* support Decimal objects natively, and SQLAlchemy must convert from floating point - rounding errors and other issues may occur. Please consider storing Decimal numbers as strings or integers on this platform for lossless storage.\n",
      "  for j in session.query(Menu).all() :\n"
     ]
    }
   ],
   "source": [
    "generate_carte_menu()"
   ]
  },
  {
   "cell_type": "code",
   "execution_count": 939,
   "metadata": {},
   "outputs": [],
   "source": [
    "def generate_carte_item():\n",
    "    \"\"\"\n",
    "    Fonction qui genere des pays dans la BDD\n",
    "    : param nb_country int : Nombre de pays à générer\n",
    "    \"\"\"\n",
    "    Session = sessionmaker(bind=engine)\n",
    "    session = Session() \n",
    "    for i in session.query(Pays).all() :\n",
    "        for j in session.query(Item).all() :\n",
    "\n",
    "            carte_item = CarteItem(pays = i.pays,nom_item = j.nom_item )\n",
    "            session.add(carte_item) \n",
    "    session.commit()\n",
    "    session.close()"
   ]
  },
  {
   "cell_type": "code",
   "execution_count": 940,
   "metadata": {},
   "outputs": [],
   "source": [
    "generate_carte_item()"
   ]
  },
  {
   "cell_type": "code",
   "execution_count": 941,
   "metadata": {},
   "outputs": [],
   "source": [
    "def generate_bill():\n",
    "    \"\"\"\n",
    "    Fonction qui genere des pays dans la BDD\n",
    "    : param nb_country int : Nombre de pays à générer\n",
    "    \"\"\"\n",
    "    liste_payement = [\"Carte Bancaire\", \"Liquide\"]\n",
    "    Session = sessionmaker(bind=engine)\n",
    "    session = Session() \n",
    "    id_bill_a_mettre =0\n",
    "    for j in session.query(Employe).all() :  \n",
    "        bill = Bill(id_bill = id_bill_a_mettre, code_postal = j.code_postal, id_vendeur = j.id_employe , borne =  int(faker.random_int(1,1000)), moyen_paiement = random.choice(liste_payement), prix_total = faker.pyfloat(left_digits=2, right_digits=2,  min_value=1.0, max_value=10.0))\n",
    "        id_bill_a_mettre += 1        \n",
    "        session.add(bill) \n",
    "    session.commit()\n",
    "    session.close()"
   ]
  },
  {
   "cell_type": "code",
   "execution_count": 942,
   "metadata": {},
   "outputs": [],
   "source": [
    "generate_bill()"
   ]
  },
  {
   "cell_type": "code",
   "execution_count": 943,
   "metadata": {},
   "outputs": [],
   "source": [
    "def generate_panier_menu(nb_panier_menu: int):\n",
    "    \"\"\"\n",
    "    Fonction qui genere des pays dans la BDD\n",
    "    : param nb_country int : Nombre de pays à générer\n",
    "    \"\"\"\n",
    "    Session = sessionmaker(bind=engine)\n",
    "    session = Session()\n",
    " \n",
    "    for _ in range(0,nb_panier_menu ):\n",
    "        for i in session.query(Bill).all() :\n",
    "            for j in session.query(Menu).all() :            \n",
    "\n",
    "                paniermenu = PanierMenu(id_bill = i.id_bill, id_menu = j.id_menu , quantity = int(faker.random_int(1,1000)))\n",
    "                session.add(paniermenu) \n",
    "    session.commit()\n",
    "    session.close()"
   ]
  },
  {
   "cell_type": "code",
   "execution_count": 944,
   "metadata": {},
   "outputs": [
    {
     "name": "stderr",
     "output_type": "stream",
     "text": [
      "/tmp/ipykernel_9244/2855272690.py:10: SAWarning: Dialect sqlite+pysqlite does *not* support Decimal objects natively, and SQLAlchemy must convert from floating point - rounding errors and other issues may occur. Please consider storing Decimal numbers as strings or integers on this platform for lossless storage.\n",
      "  for i in session.query(Bill).all() :\n"
     ]
    }
   ],
   "source": [
    "generate_panier_menu(1)"
   ]
  },
  {
   "cell_type": "code",
   "execution_count": 945,
   "metadata": {},
   "outputs": [],
   "source": [
    "def generate_panier_item(nb_panier_item: int):\n",
    "    \"\"\"\n",
    "    Fonction qui genere des pays dans la BDD\n",
    "    : param nb_country int : Nombre de pays à générer\n",
    "    \"\"\"\n",
    "    Session = sessionmaker(bind=engine)\n",
    "    session = Session() \n",
    "    for _ in range(0,nb_panier_item):\n",
    "        for i in session.query(Item).all() :\n",
    "            for j in session.query(Bill).all() :   \n",
    "                panier_item = PanierItem(nom_item = i.nom_item , id_bill = j.id_bill, quantity = int(faker.random_int(1,1000)) )\n",
    "                session.add(panier_item) \n",
    "    \n",
    "    session.commit()\n",
    "    session.close()"
   ]
  },
  {
   "cell_type": "code",
   "execution_count": 946,
   "metadata": {},
   "outputs": [],
   "source": [
    "generate_panier_item(1)"
   ]
  },
  {
   "cell_type": "code",
   "execution_count": 947,
   "metadata": {},
   "outputs": [],
   "source": [
    "def generate_paye(nb_paye: int):\n",
    "    \"\"\"\n",
    "    Fonction qui genere des pays dans la BDD\n",
    "    : param nb_country int : Nombre de pays à générer\n",
    "    \"\"\"\n",
    "    Session = sessionmaker(bind=engine)\n",
    "    session = Session() \n",
    "    for i in session.query(Employe).all() :\n",
    "        paye = Paye(id_employe = i.id_employe , date = faker.month(), salaire_net = int(faker.random_int(1,1000)))\n",
    "        session.add(paye) \n",
    "    session.commit()\n",
    "    session.close()"
   ]
  },
  {
   "cell_type": "code",
   "execution_count": 948,
   "metadata": {},
   "outputs": [],
   "source": [
    "generate_paye(1)"
   ]
  }
 ],
 "metadata": {
  "kernelspec": {
   "display_name": "Python 3.10.8 ('premierenv')",
   "language": "python",
   "name": "python3"
  },
  "language_info": {
   "codemirror_mode": {
    "name": "ipython",
    "version": 3
   },
   "file_extension": ".py",
   "mimetype": "text/x-python",
   "name": "python",
   "nbconvert_exporter": "python",
   "pygments_lexer": "ipython3",
   "version": "3.10.8 (main, Nov  4 2022, 13:48:29) [GCC 11.2.0]"
  },
  "orig_nbformat": 4,
  "vscode": {
   "interpreter": {
    "hash": "afefd2ce098a7acbd6d1fec67aa62a2e03a29502bf1ca801fc44f38ec37e143d"
   }
  }
 },
 "nbformat": 4,
 "nbformat_minor": 2
}
