{
 "cells": [
  {
   "cell_type": "code",
   "execution_count": 11,
   "metadata": {},
   "outputs": [],
   "source": [
    "# On importe les packages utiles\n",
    "import sqlalchemy as db\n",
    "import pandas as pd"
   ]
  },
  {
   "cell_type": "code",
   "execution_count": 12,
   "metadata": {},
   "outputs": [],
   "source": [
    "# On établit une connexion\n",
    "engine = db.create_engine(\"sqlite:///burger.db\")\n",
    "connection = engine.connect()"
   ]
  },
  {
   "cell_type": "code",
   "execution_count": 29,
   "metadata": {},
   "outputs": [],
   "source": [
    "metadata = db.MetaData()\n",
    "\n",
    "pays_table = db.Table('Pays', metadata,\n",
    "              db.Column('pays', db.String(), primary_key=True)\n",
    "              )\n",
    "\n",
    "### Gestion des restaurants\n",
    "restaurant_table = db.Table('Restaurant', metadata,\n",
    "              db.Column('code_postal', db.String(), primary_key=True),\n",
    "              db.Column('pays', db.String(), db.ForeignKey(\"Pays.pays\"), nullable=False),\n",
    "              db.Column('capacité', db.Integer(), default=0),\n",
    "              db.Column('espace_enfant', db.Integer(), default=False),\n",
    "              db.Column('service_rapide', db.Integer(), default=False),\n",
    "              db.Column('accessibilité', db.Integer(), default=False),\n",
    "              db.Column('parking', db.Integer(), default=0)\n",
    "              )\n",
    "\n",
    "### Gestion des employés\n",
    "\n",
    "employe_table = db.Table('Employe', metadata,\n",
    "              db.Column('id_employe', db.Integer(), primary_key=True),\n",
    "              db.Column('code_postal', db.String(), db.ForeignKey(\"Restaurant.code_postal\"), nullable=False),\n",
    "              db.Column('id_superieur', db.Integer(), db.ForeignKey(\"Employe.id_employe\"), nullable=True),\n",
    "              db.Column('poste', db.String(), nullable=False),\n",
    "              db.Column('experience', db.Integer(), default=0, nullable=False),\n",
    "              db.Column('nom', db.String(), nullable=False),\n",
    "              db.Column('adresse', db.String(), nullable=False),\n",
    "              db.Column('note', db.Integer(), default=1, nullable=False),\n",
    "              )\n",
    "\n",
    "rib_table = db.Table('RIB', metadata,\n",
    "              db.Column('id_employe', db.Integer(), db.ForeignKey(\"Employe.id_employe\"), primary_key=True),\n",
    "              db.Column('iban', db.String(), nullable=False),\n",
    "              db.Column('bic', db.String(), nullable=False),\n",
    "              db.Column('proprietaire', db.String(), nullable=False),\n",
    "              db.Column('adresse', db.String(), nullable=False),\n",
    "              )\n",
    "\n",
    "paie_table = db.Table('Paie', metadata,\n",
    "              db.Column('id_employe', db.Integer(), db.ForeignKey(\"Employe.id_employe\"), primary_key=True),\n",
    "              db.Column('date', db.String(), primary_key=True),\n",
    "              db.Column('salaire_net', db.Float(), nullable=False),\n",
    "              )\n",
    "\n",
    "### Gestion des cartes et menus\n",
    "\n",
    "item_table = db.Table('Item', metadata,\n",
    "              db.Column('nom_item', db.String(), primary_key=True),\n",
    "              db.Column('type', db.String(), nullable=False),\n",
    "              db.Column('prix', db.Float(), nullable=False),\n",
    "              )\n",
    "\n",
    "\n",
    "\n",
    "menu_table = db.Table('Menu', metadata,\n",
    "              db.Column('id_menu', db.Integer(), primary_key=True),\n",
    "              db.Column('boisson', db.String(), db.ForeignKey(\"Item.nom_item\"), nullable=False),\n",
    "              db.Column('plat', db.String(), db.ForeignKey(\"Item.nom_item\"), nullable=False),\n",
    "              db.Column('dessert', db.String(), db.ForeignKey(\"Item.nom_item\"), nullable=False),\n",
    "              db.Column('prix', db.Float(), nullable=False),\n",
    "              )\n",
    "\n",
    "\n",
    "carte_menu_table = db.Table('CarteMenu', metadata,\n",
    "              db.Column('pays', db.String(), db.ForeignKey(\"Pays.pays\"), primary_key=True),\n",
    "              db.Column('id_menu', db.Integer(), db.ForeignKey(\"Menu.id_menu\"), primary_key=True),\n",
    "              )\n",
    "\n",
    "carte_item_table = db.Table('CarteItem', metadata,\n",
    "              db.Column('pays', db.String(), db.ForeignKey(\"Pays.pays\"), primary_key=True),\n",
    "              db.Column('nom_item', db.String(), db.ForeignKey(\"Item.nom_item\"), primary_key=True),\n",
    "              )\n",
    "\n",
    "### Gestion des recettes et des stocks\n",
    "\n",
    "ingredient_table = db.Table('Ingredient', metadata,\n",
    "              db.Column('nom_ingredient', db.String(), primary_key=True),\n",
    "              db.Column('cout', db.Float(), nullable=False),\n",
    "              )\n",
    "\n",
    "recette_table = db.Table('Recette', metadata,\n",
    "              db.Column('nom_item', db.String(),db.ForeignKey(\"Item.nom_item\"), primary_key=True),\n",
    "              db.Column('nom_ingredient', db.String(),db.ForeignKey(\"Ingredient.nom_ingredient\"), primary_key=True),\n",
    "              db.Column('quantite', db.Integer(),default=0)\n",
    "              )\n",
    "\n",
    "stock_table = db.Table('Stock', metadata,\n",
    "              db.Column('nom_ingredient', db.String(),db.ForeignKey(\"Ingredient.nom_ingredient\"), primary_key=True),\n",
    "              db.Column('code_postal', db.String(),db.ForeignKey(\"Restaurant.code_postal\"), primary_key=True),\n",
    "              db.Column('quantite', db.Integer(),default=0)\n",
    "              )\n",
    "\n",
    "# Gestion des tickets de caisse\n",
    "\n",
    "bill_table = db.Table('Bill', metadata,\n",
    "              db.Column('id_bill', db.Integer(), primary_key=True),\n",
    "              db.Column('code_postal', db.Integer(), db.ForeignKey(\"Restaurant.code_postal\"), nullable=False),\n",
    "              db.Column('id_employe', db.Integer(), db.ForeignKey(\"Employe.id_employe\"), nullable=True),\n",
    "              db.Column('borne', db.Integer(), default=False, nullable=False),\n",
    "              db.Column('moyen_paiement', db.String(), nullable=False),\n",
    "              db.Column('prix_total', db.Float(), nullable=False)\n",
    "              )\n",
    "\n",
    "panier_menu_table = db.Table('PanierMenuTable', metadata,\n",
    "              db.Column('id_bill', db.Integer(),db.ForeignKey(\"Bill.id_bill\"), primary_key=True),\n",
    "              db.Column('id_menu', db.Integer(),db.ForeignKey(\"Menu.id_menu\"), primary_key=True),\n",
    "              db.Column('quantite', db.Integer(),default=0)\n",
    "              )\n",
    "\n",
    "panier_item_table = db.Table('PanierItemTable', metadata,\n",
    "              db.Column('id_bill', db.Integer(),db.ForeignKey(\"Bill.id_bill\"), primary_key=True),\n",
    "              db.Column('nom_item', db.String(),db.ForeignKey(\"Item.nom_item\"), primary_key=True),\n",
    "              db.Column('quantite', db.Integer(),default=0)\n",
    "              )\n"
   ]
  },
  {
   "cell_type": "code",
   "execution_count": 30,
   "metadata": {},
   "outputs": [],
   "source": [
    "# Attention, create_all est une méthode de l'objet MEtadata qui prend comme argument l'engine\n",
    "metadata.create_all(engine) #Creates the table"
   ]
  },
  {
   "cell_type": "markdown",
   "metadata": {},
   "source": [
    "# Modifier ma database"
   ]
  },
  {
   "cell_type": "code",
   "execution_count": 23,
   "metadata": {},
   "outputs": [],
   "source": [
    "metadata_update = db.MetaData()\n",
    "\n",
    "with engine.connect() as conn:\n",
    "    metadata_update.reflect(conn)"
   ]
  },
  {
   "cell_type": "code",
   "execution_count": 25,
   "metadata": {},
   "outputs": [],
   "source": [
    "metadata_update.tables[\"Menu\"].drop(engine)"
   ]
  }
 ],
 "metadata": {
  "kernelspec": {
   "display_name": "Python 3",
   "language": "python",
   "name": "python3"
  },
  "language_info": {
   "codemirror_mode": {
    "name": "ipython",
    "version": 3
   },
   "file_extension": ".py",
   "mimetype": "text/x-python",
   "name": "python",
   "nbconvert_exporter": "python",
   "pygments_lexer": "ipython3",
   "version": "3.11.0rc1 (main, Aug 12 2022, 10:02:14) [GCC 11.2.0]"
  },
  "orig_nbformat": 4,
  "vscode": {
   "interpreter": {
    "hash": "ead1b95f633dc9c51826328e1846203f51a198c6fb5f2884a80417ba131d4e82"
   }
  }
 },
 "nbformat": 4,
 "nbformat_minor": 2
}
