{
 "cells": [
  {
   "cell_type": "code",
   "execution_count": 132,
   "metadata": {},
   "outputs": [],
   "source": [
    "# populate_tables.py\n",
    "import sqlalchemy as db\n",
    "\n",
    "import random\n",
    "# Set up connections between sqlalchemy and postgres dbapi\n",
    "engine = db.create_engine(\"sqlite:///burger.db\")\n",
    "connection = engine.connect()\n",
    "\n",
    "# Instantiate metadata class\n",
    "metadata = db.MetaData()\n",
    "# Instantiate faker class\n",
    "from faker import Faker\n",
    "from faker_food import FoodProvider\n",
    "faker = Faker()\n",
    "faker.random.seed()\n",
    "faker.add_provider(FoodProvider)\n",
    "# Reflect metadata/schema from existing postgres database\n",
    "with engine.connect() as conn:\n",
    "    metadata.reflect(conn)"
   ]
  },
  {
   "cell_type": "code",
   "execution_count": 133,
   "metadata": {},
   "outputs": [],
   "source": [
    "table_dict = {}\n",
    "for t in metadata.sorted_tables:\n",
    "    table_dict[f\"{t.name}\"] = metadata.tables[f\"{t.name}\"]"
   ]
  },
  {
   "cell_type": "markdown",
   "metadata": {},
   "source": [
    "Table pays"
   ]
  },
  {
   "cell_type": "code",
   "execution_count": 17,
   "metadata": {},
   "outputs": [],
   "source": [
    "with engine.begin() as conn:\n",
    "    for _ in range(5):\n",
    "        insert_stmt = table_dict[\"Pays\"].insert().values(\n",
    "        pays = faker.country()\n",
    "        )\n",
    "        conn.execute(insert_stmt)"
   ]
  },
  {
   "cell_type": "markdown",
   "metadata": {},
   "source": [
    "Table restaurant"
   ]
  },
  {
   "cell_type": "code",
   "execution_count": 28,
   "metadata": {},
   "outputs": [],
   "source": [
    "pays_pk = connection.execute(db.select([table_dict[\"Pays\"].c.pays])).fetchall()\n",
    "\n",
    "with engine.begin() as conn:\n",
    "    for _ in range(50):\n",
    "      insert_stmt = table_dict[\"Restaurant\"].insert().values(\n",
    "        code_postal = faker.postalcode(),\n",
    "        pays = random.choice(pays_pk)[0],\n",
    "        capacité = faker.pyint(0,500),\n",
    "        espace_enfant = faker.pyint(0,1),\n",
    "        service_rapide = faker.pyint(0,1),\n",
    "        accessibilité = faker.pyint(0,1),\n",
    "        parking = faker.pyint(0,200),\n",
    "      )\n",
    "      conn.execute(insert_stmt)"
   ]
  },
  {
   "cell_type": "markdown",
   "metadata": {},
   "source": [
    "Table employe\n",
    "\n",
    "Comme les employés ont besoin de supérieur on ne peut pas les créer tous d'un coup. On commence donc par créer les directeurs, les managers puis enfin "
   ]
  },
  {
   "cell_type": "code",
   "execution_count": 33,
   "metadata": {},
   "outputs": [],
   "source": [
    "restaurant_pk = connection.execute(db.select([table_dict[\"Restaurant\"].c.code_postal])).fetchall()\n",
    "\n",
    "\n",
    "# Create Directors\n",
    "with engine.begin() as conn:\n",
    "    for restaurant in restaurant_pk:\n",
    "      insert_stmt = table_dict[\"Employe\"].insert().values(\n",
    "        code_postal = restaurant[0],\n",
    "        poste = \"directeur\",\n",
    "        experience = faker.pyint(0,40),\n",
    "        nom = faker.unique.name(),\n",
    "        adresse = faker.unique.address(),\n",
    "        note = faker.pyint(0,10)\n",
    "      )\n",
    "      conn.execute(insert_stmt)"
   ]
  },
  {
   "cell_type": "code",
   "execution_count": 34,
   "metadata": {},
   "outputs": [],
   "source": [
    "# Create Managers\n",
    "\n",
    "directors_pk = connection.execute(db.select([table_dict[\"Employe\"].c.id_employe])).fetchall()\n",
    "\n",
    "with engine.begin() as conn:\n",
    "    for restaurants in range(250):\n",
    "      insert_stmt = table_dict[\"Employe\"].insert().values(\n",
    "        code_postal = random.choice(restaurant_pk)[0],\n",
    "        id_superieur = random.choice(directors_pk)[0],\n",
    "        poste = \"manager\",\n",
    "        experience = faker.pyint(0,40),\n",
    "        nom = faker.unique.name(),\n",
    "        adresse = faker.unique.address(),\n",
    "        note = faker.pyint(0,10)\n",
    "      )\n",
    "      conn.execute(insert_stmt)"
   ]
  },
  {
   "cell_type": "code",
   "execution_count": 43,
   "metadata": {},
   "outputs": [],
   "source": [
    "# Create Employe\n",
    "\n",
    "managers_pk = connection.execute(db.select([table_dict[\"Employe\"].c.id_employe]).where(table_dict[\"Employe\"].c.poste == \"manager\")).fetchall()\n",
    "\n",
    "with engine.begin() as conn:\n",
    "    for restaurants in range(2500):\n",
    "      insert_stmt = table_dict[\"Employe\"].insert().values(\n",
    "        code_postal = random.choice(restaurant_pk)[0],\n",
    "        id_superieur = random.choice(managers_pk)[0],\n",
    "        poste = random.choice([\"cuisinier\",\"vendeur\"]),\n",
    "        experience = faker.pyint(0,40),\n",
    "        nom = faker.unique.name(),\n",
    "        adresse = faker.unique.address(),\n",
    "        note = faker.pyint(0,10)\n",
    "      )\n",
    "      conn.execute(insert_stmt)"
   ]
  },
  {
   "cell_type": "markdown",
   "metadata": {},
   "source": [
    "Table rib"
   ]
  },
  {
   "cell_type": "code",
   "execution_count": 52,
   "metadata": {},
   "outputs": [],
   "source": [
    "employe_list = connection.execute(db.select(\n",
    "    table_dict[\"Employe\"].c.id_employe,\n",
    "    table_dict[\"Employe\"].c.nom,\n",
    "    table_dict[\"Employe\"].c.adresse\n",
    "    )).fetchall()\n",
    "\n",
    "with engine.begin() as conn:\n",
    "    for employe in employe_list:\n",
    "      insert_stmt = table_dict[\"RIB\"].insert().values(\n",
    "        id_employe = employe[0],\n",
    "        iban = faker.iban(),\n",
    "        bic = faker.bban(),\n",
    "        proprietaire = employe[1],\n",
    "        adresse = employe[2]\n",
    "      )\n",
    "      conn.execute(insert_stmt)\n"
   ]
  },
  {
   "cell_type": "markdown",
   "metadata": {},
   "source": [
    "Table paie"
   ]
  },
  {
   "cell_type": "code",
   "execution_count": 65,
   "metadata": {},
   "outputs": [],
   "source": [
    "employe_list = connection.execute(db.select(\n",
    "    table_dict[\"Employe\"].c.id_employe,\n",
    "    table_dict[\"Employe\"].c.experience,\n",
    "    table_dict[\"Employe\"].c.note,\n",
    "    table_dict[\"Employe\"].c.poste\n",
    "    )).fetchall()\n",
    "\n",
    "with engine.begin() as conn:\n",
    "    # On travaille employé par employé\n",
    "    for employe in employe_list:\n",
    "        # On génére un historique en fonction de l'experience\n",
    "        for annee in range(employe[1]):\n",
    "            for month in range(1,13):\n",
    "                insert_stmt = table_dict[\"Paie\"].insert().values(\n",
    "                    id_employe = employe[0],\n",
    "                    date = f\"{2023-annee}-{month}\",\n",
    "                    # Le salaire dépend de l'expériencet de la note\n",
    "                    salaire_net = 2000 + 20 * employe[1] + 30 * employe[2]\n",
    "                )\n",
    "                conn.execute(insert_stmt)"
   ]
  },
  {
   "cell_type": "markdown",
   "metadata": {},
   "source": [
    "Gestion des plats"
   ]
  },
  {
   "cell_type": "code",
   "execution_count": null,
   "metadata": {},
   "outputs": [],
   "source": [
    "item_table = db.Table('Item', metadata,\n",
    "              db.Column('nom_item', db.String(), primary_key=True),\n",
    "              db.Column('type', db.String(), nullable=False),\n",
    "              db.Column('prix', db.Float(), nullable=False),\n",
    "              )\n"
   ]
  },
  {
   "cell_type": "code",
   "execution_count": 88,
   "metadata": {},
   "outputs": [],
   "source": [
    "dish_list=[]\n",
    "for _ in range(100):\n",
    "    dish_list.append(faker.dish())\n",
    "\n",
    "unique_dish = list(set(dish_list))"
   ]
  },
  {
   "cell_type": "code",
   "execution_count": 89,
   "metadata": {},
   "outputs": [],
   "source": [
    "# l'argument unique ne semble pas marcher avec le provider importer d'un autre package,\n",
    "# on trouve donc une astuce pour avoir un liste unique\n",
    "\n",
    "with engine.begin() as conn:\n",
    "    for i in range(len(unique_dish)):\n",
    "      insert_stmt = table_dict[\"Item\"].insert().values(\n",
    "        nom_item = unique_dish[i],\n",
    "        type = random.choice([\"dessert\",\"plat\",\"boisson\"]),\n",
    "        prix = faker.pyfloat(left_digits=2, right_digits=2,  min_value=2.0, max_value=20.0)\n",
    "      )\n",
    "      conn.execute(insert_stmt)"
   ]
  },
  {
   "cell_type": "markdown",
   "metadata": {},
   "source": [
    "Création des Menu"
   ]
  },
  {
   "cell_type": "code",
   "execution_count": 134,
   "metadata": {},
   "outputs": [],
   "source": [
    "boisson_pk = connection.execute(db.select([table_dict[\"Item\"].c.nom_item]).where(table_dict[\"Item\"].c.type == \"boisson\")).fetchall()\n",
    "plat_pk = connection.execute(db.select([table_dict[\"Item\"].c.nom_item]).where(table_dict[\"Item\"].c.type == \"boisson\")).fetchall()\n",
    "dessert_pk = connection.execute(db.select([table_dict[\"Item\"].c.nom_item]).where(table_dict[\"Item\"].c.type == \"boisson\")).fetchall()\n",
    "\n",
    "# id_unique_menu = 0\n",
    "\n",
    "with engine.begin() as conn:\n",
    "    for _ in range(20):\n",
    "      insert_stmt = table_dict[\"Menu\"].insert().values(\n",
    "        # id_menu = id_unique_menu,\n",
    "        boisson = random.choice(boisson_pk)[0],\n",
    "        plat = random.choice(plat_pk)[0],\n",
    "        dessert = random.choice(dessert_pk)[0],\n",
    "        prix = faker.pyfloat(left_digits=2, right_digits=2,  min_value=12.0, max_value=35.0)\n",
    "\n",
    "      )\n",
    "      conn.execute(insert_stmt)\n",
    "      # id_unique_menu+=1"
   ]
  },
  {
   "cell_type": "code",
   "execution_count": null,
   "metadata": {},
   "outputs": [],
   "source": []
  },
  {
   "cell_type": "markdown",
   "metadata": {},
   "source": [
    "Creation des ingrédients"
   ]
  },
  {
   "cell_type": "code",
   "execution_count": 92,
   "metadata": {},
   "outputs": [],
   "source": [
    "ingredient_list=[]\n",
    "for _ in range(100):\n",
    "    ingredient_list.append(faker.ingredient())\n",
    "\n",
    "unique_ingredient = list(set(ingredient_list))"
   ]
  },
  {
   "cell_type": "code",
   "execution_count": 95,
   "metadata": {},
   "outputs": [],
   "source": [
    "with engine.begin() as conn:\n",
    "    for i in range(len(unique_ingredient)):\n",
    "      insert_stmt = table_dict[\"Ingredient\"].insert().values(\n",
    "        nom_ingredient = unique_ingredient[i],\n",
    "        cout = faker.pyfloat(left_digits=2, right_digits=2,  min_value=1.0, max_value=10.0)\n",
    "      )\n",
    "      conn.execute(insert_stmt)"
   ]
  },
  {
   "cell_type": "markdown",
   "metadata": {},
   "source": [
    "Gestion des recettes"
   ]
  },
  {
   "cell_type": "code",
   "execution_count": null,
   "metadata": {},
   "outputs": [],
   "source": [
    "dish_pk = connection.execute(db.select([table_dict[\"Item\"].c.nom_item])).fetchall()\n",
    "ingredient_pk = connection.execute(db.select([table_dict[\"Ingredient\"].c.nom_ingredient])).fetchall()\n",
    "\n",
    "\n",
    "with engine.begin() as conn:\n",
    "    for i in range(len(dish_pk)):\n",
    "        ingredient_selectionne = []\n",
    "        for nb_ingredient in range(random.randrange(1,6)):\n",
    "            selected_ingredient = random.choice([e for e in ingredient_pk if e[0] not in ingredient_selectionne])[0]\n",
    "            ingredient_selectionne.append(selected_ingredient)\n",
    "            \n",
    "            insert_stmt = table_dict[\"Recette\"].insert().values(\n",
    "                nom_item = dish_pk[i][0],\n",
    "                nom_ingredient = selected_ingredient\n",
    "                \n",
    "            )\n",
    "            conn.execute(insert_stmt)"
   ]
  },
  {
   "cell_type": "markdown",
   "metadata": {},
   "source": [
    "Gestion des bills"
   ]
  },
  {
   "cell_type": "code",
   "execution_count": 147,
   "metadata": {},
   "outputs": [],
   "source": [
    "restaurant_pk = connection.execute(db.select([table_dict[\"Restaurant\"].c.code_postal])).fetchall()\n",
    "\n",
    "\n",
    "with engine.begin() as conn:\n",
    "    for i in range(len(restaurant_pk)):\n",
    "        vendeur_pk = connection.execute(db.select([table_dict[\"Employe\"].c.id_employe])\\\n",
    "            .where(table_dict[\"Employe\"].c.poste == \"vendeur\")\\\n",
    "            .where(table_dict[\"Employe\"].c.code_postal == restaurant_pk[i][0]))\\\n",
    "            .fetchall()\n",
    "\n",
    "        for _ in range(len(vendeur_pk)*10):\n",
    "            insert_stmt = table_dict[\"Bill\"].insert().values(\n",
    "                code_postal = restaurant_pk[i][0],\n",
    "                id_employe = random.choice(vendeur_pk)[0],\n",
    "                borne = 0,\n",
    "                moyen_paiement = random.choice([\"CB\",\"cash\",\"cheque\"]),\n",
    "                prix_total = faker.pyfloat(min_value=10.0, max_value=150.0)    \n",
    "                )\n",
    "            conn.execute(insert_stmt)"
   ]
  },
  {
   "cell_type": "markdown",
   "metadata": {},
   "source": [
    "Panier Item"
   ]
  },
  {
   "cell_type": "code",
   "execution_count": 154,
   "metadata": {},
   "outputs": [
    {
     "name": "stdout",
     "output_type": "stream",
     "text": [
      "36\n",
      "36\n"
     ]
    }
   ],
   "source": [
    "item_pk = connection.execute(db.select([table_dict[\"Item\"].c.nom_item])).fetchall()\n",
    "print( len(item_pk) )\n",
    "print( len(set(item_pk)) )"
   ]
  },
  {
   "cell_type": "code",
   "execution_count": 157,
   "metadata": {},
   "outputs": [],
   "source": [
    "item_pk = connection.execute(db.select([table_dict[\"Item\"].c.nom_item])).fetchall()\n",
    "bill_pk = connection.execute(db.select([table_dict[\"Bill\"].c.id_bill])).fetchall()\n",
    "\n",
    "\n",
    "with engine.begin() as conn:\n",
    "    for i in range(len(bill_pk)):\n",
    "        item_selectionne_list = []\n",
    "        for _ in range(random.randrange(1,10)):\n",
    "            selected_item = random.choice([e for e in item_pk if e[0] not in item_selectionne_list])[0]\n",
    "            item_selectionne_list.append(selected_item)\n",
    "            insert_stmt = table_dict[\"PanierItemTable\"].insert().values(\n",
    "                id_bill = bill_pk[i][0],\n",
    "                nom_item = selected_item,\n",
    "                quantite = faker.pyint(0,10)\n",
    "            )\n",
    "            conn.execute(insert_stmt)"
   ]
  },
  {
   "cell_type": "code",
   "execution_count": 160,
   "metadata": {},
   "outputs": [],
   "source": [
    "menu_pk = connection.execute(db.select([table_dict[\"Menu\"].c.id_menu])).fetchall()\n",
    "bill_pk = connection.execute(db.select([table_dict[\"Bill\"].c.id_bill])).fetchall()\n",
    "\n",
    "\n",
    "with engine.begin() as conn:\n",
    "    for i in range(len(bill_pk)):\n",
    "        menu_selectionne_list = []\n",
    "        for _ in range(random.randrange(1,5)):\n",
    "            selected_menu = random.choice([e for e in menu_pk if e[0] not in menu_selectionne_list])[0]\n",
    "            menu_selectionne_list.append(selected_menu)\n",
    "            insert_stmt = table_dict[\"PanierMenuTable\"].insert().values(\n",
    "                id_bill = bill_pk[i][0],\n",
    "                id_menu = selected_menu,\n",
    "                quantite = faker.pyint(1,5)\n",
    "            )\n",
    "            conn.execute(insert_stmt)"
   ]
  },
  {
   "cell_type": "markdown",
   "metadata": {},
   "source": [
    "carte menu"
   ]
  },
  {
   "cell_type": "code",
   "execution_count": 161,
   "metadata": {},
   "outputs": [],
   "source": [
    "menu_pk = connection.execute(db.select([table_dict[\"Menu\"].c.id_menu])).fetchall()\n",
    "pays_pk = connection.execute(db.select([table_dict[\"Pays\"].c.pays])).fetchall()\n",
    "\n",
    "\n",
    "with engine.begin() as conn:\n",
    "    for i in range(len(pays_pk)):\n",
    "        random_menu = random.sample(menu_pk, 10)\n",
    "        for j in range(len(random_menu)):\n",
    "            insert_stmt = table_dict[\"CarteMenu\"].insert().values(\n",
    "                pays = pays_pk[i][0],\n",
    "                id_menu = random_menu[j][0]\n",
    "            )\n",
    "            conn.execute(insert_stmt)"
   ]
  },
  {
   "cell_type": "code",
   "execution_count": 164,
   "metadata": {},
   "outputs": [],
   "source": [
    "item_pk = connection.execute(db.select([table_dict[\"Item\"].c.nom_item])).fetchall()\n",
    "pays_pk = connection.execute(db.select([table_dict[\"Pays\"].c.pays])).fetchall()\n",
    "\n",
    "\n",
    "with engine.begin() as conn:\n",
    "    for i in range(len(pays_pk)):\n",
    "        random_item = random.sample(item_pk, 20)\n",
    "        for j in range(len(random_item)):\n",
    "            insert_stmt = table_dict[\"CarteItem\"].insert().values(\n",
    "                pays = pays_pk[i][0],\n",
    "                nom_item = random_item[j][0]\n",
    "            )\n",
    "            conn.execute(insert_stmt)"
   ]
  },
  {
   "cell_type": "markdown",
   "metadata": {},
   "source": [
    "Gestion des Stocks"
   ]
  },
  {
   "cell_type": "code",
   "execution_count": 166,
   "metadata": {},
   "outputs": [],
   "source": [
    "ingredient_pk = connection.execute(db.select([table_dict[\"Ingredient\"].c.nom_ingredient])).fetchall()\n",
    "restaurant_pk = connection.execute(db.select([table_dict[\"Restaurant\"].c.code_postal])).fetchall()\n",
    "\n",
    "\n",
    "with engine.begin() as conn:\n",
    "    for i in range(len(restaurant_pk)):\n",
    "        for j in range(len(ingredient_pk)):\n",
    "            insert_stmt = table_dict[\"Stock\"].insert().values(\n",
    "                nom_ingredient = ingredient_pk[j][0],\n",
    "                code_postal = restaurant_pk[i][0],\n",
    "                quantite = faker.pyint(0,200)\n",
    "            )\n",
    "            conn.execute(insert_stmt)"
   ]
  }
 ],
 "metadata": {
  "kernelspec": {
   "display_name": "Python 3",
   "language": "python",
   "name": "python3"
  },
  "language_info": {
   "codemirror_mode": {
    "name": "ipython",
    "version": 3
   },
   "file_extension": ".py",
   "mimetype": "text/x-python",
   "name": "python",
   "nbconvert_exporter": "python",
   "pygments_lexer": "ipython3",
   "version": "3.11.0rc1 (main, Aug 12 2022, 10:02:14) [GCC 11.2.0]"
  },
  "orig_nbformat": 4,
  "vscode": {
   "interpreter": {
    "hash": "ead1b95f633dc9c51826328e1846203f51a198c6fb5f2884a80417ba131d4e82"
   }
  }
 },
 "nbformat": 4,
 "nbformat_minor": 2
}
